{
 "cells": [
  {
   "cell_type": "markdown",
   "metadata": {},
   "source": [
    "# 任务3：TFIDF提取与分类\n",
    "TFIDF（词频-逆文档频率）是一种常见的文本表示方法，可以用于文本分类任务。TFIDF将文本表示为词项的权重向量，其中每个词项的权重由其在文本中出现的频率和在整个语料库中出现的频率共同决定。TFIDF可以反映出词项在文本中的重要程度，越是常见的词项权重越低，越是稀有的词项权重越高。\n",
    "\n",
    "- 步骤1：使用sklearn中的TfidfVectorizer类提取训练集和测试集的特征，\n",
    "- 步骤2：使用KNN/LR/SVM等分类器对训练集进行训练，并对验证集和测试集进行预测，评估模型的性能。\n",
    "- 步骤3：通过上述步骤，请回答下面问题\n",
    "    - max_df: 用于过滤掉高频词项，在[0.0, 1.0]之间表示比例；\n",
    "     -min_df: 用于过滤掉低频词项，在[0.0, 1.0]之间表示比例；\n",
    "    - max_features: 用于限制提取特征的数量，默认为None。\n",
    "    - ngram_range: 用于指定提取n元语法特征时n值范围，默认为(1, 1)，即只提取单个词项。\n",
    "    - stop_words: 用于指定停用词列表，默认为None。\n",
    "    - norm: 用于指定归一化方法，默认为’l2’范数。\n",
    "    - use_idf: 是否使用逆文档频率计算权重，默认为True。\n",
    "    - smooth_idf: 是否平滑逆文档频率计算，默认为True\n",
    "    - TFIDF中可以设置哪些参数，如何影响到提取的特征？TfidfVectorizer类中可以设置以下参数：\n",
    "    - KNN/LR/SVM的精度对比：根据实验结果，比较三种分类器在验证集和测试集上预测正确率、召回率、F1值等指标，并分析各自优缺点。"
   ]
  },
  {
   "cell_type": "code",
   "execution_count": 2,
   "metadata": {},
   "outputs": [],
   "source": [
    "import pandas as pd\n",
    "import jieba\n",
    "import matplotlib.pyplot as plt\n",
    "\n",
    "# 读取数据集，这里是直接联网读取，也可以通过下载文件，再读取\n",
    "data_dir = 'https://mirror.coggle.club/dataset/coggle-competition/'\n",
    "train_data = pd.read_csv(data_dir + 'intent-classify/train.csv', sep='\\t', header=None)\n",
    "test_data = pd.read_csv(data_dir + 'intent-classify/test.csv', sep='\\t', header=None)\n",
    "\n",
    "cn_stopwords = pd.read_csv('https://mirror.coggle.club/stopwords/baidu_stopwords.txt', header=None)[0].values"
   ]
  },
  {
   "cell_type": "code",
   "execution_count": 4,
   "metadata": {},
   "outputs": [
    {
     "name": "stderr",
     "output_type": "stream",
     "text": [
      "/Users/samprasyuan/miniforge3/lib/python3.10/site-packages/sklearn/feature_extraction/text.py:525: UserWarning: The parameter 'token_pattern' will not be used since 'tokenizer' is not None'\n",
      "  warnings.warn(\n",
      "/Users/samprasyuan/miniforge3/lib/python3.10/site-packages/sklearn/feature_extraction/text.py:408: UserWarning: Your stop_words may be inconsistent with your preprocessing. Tokenizing the stop words generated tokens [\"'\", 'a', 'ain', 'aren', 'c', 'couldn', 'd', 'didn', 'doesn', 'don', 'hadn', 'hasn', 'haven', 'i', 'isn', 'll', 'm', 'mon', 's', 'shouldn', 't', 've', 'wasn', 'weren', 'won', 'wouldn', '下', '不', '为什', '什', '今', '使', '先', '却', '只', '唷', '啪', '喔', '天', '好', '後', '最', '漫', '然', '特', '特别', '见', '设', '说', '达', '面', '麽', '－'] not in stop_words.\n",
      "  warnings.warn(\n"
     ]
    }
   ],
   "source": [
    "from sklearn.feature_extraction.text import TfidfVectorizer \n",
    "import jieba  \n",
    "\n",
    "tfidf = TfidfVectorizer(tokenizer=jieba.lcut,stop_words=list(cn_stopwords) ) \n",
    "\n",
    "train_tfidf = tfidf.fit_transform(train_data[0])  \n",
    "test_tfidf = tfidf.transform(test_data[0])   "
   ]
  },
  {
   "cell_type": "code",
   "execution_count": 5,
   "metadata": {},
   "outputs": [
    {
     "data": {
      "text/html": [
       "<div>\n",
       "<style scoped>\n",
       "    .dataframe tbody tr th:only-of-type {\n",
       "        vertical-align: middle;\n",
       "    }\n",
       "\n",
       "    .dataframe tbody tr th {\n",
       "        vertical-align: top;\n",
       "    }\n",
       "\n",
       "    .dataframe thead th {\n",
       "        text-align: right;\n",
       "    }\n",
       "</style>\n",
       "<table border=\"1\" class=\"dataframe\">\n",
       "  <thead>\n",
       "    <tr style=\"text-align: right;\">\n",
       "      <th></th>\n",
       "      <th>0</th>\n",
       "    </tr>\n",
       "  </thead>\n",
       "  <tbody>\n",
       "    <tr>\n",
       "      <th>0</th>\n",
       "      <td>回放CCTV2的消费主张</td>\n",
       "    </tr>\n",
       "    <tr>\n",
       "      <th>1</th>\n",
       "      <td>给我打开玩具房的灯</td>\n",
       "    </tr>\n",
       "    <tr>\n",
       "      <th>2</th>\n",
       "      <td>循环播放赵本山的小品相亲来听</td>\n",
       "    </tr>\n",
       "    <tr>\n",
       "      <th>3</th>\n",
       "      <td>15号上午10点带孩子去海洋馆的行程帮我制定下。</td>\n",
       "    </tr>\n",
       "    <tr>\n",
       "      <th>4</th>\n",
       "      <td>把智能扫地机器人关掉</td>\n",
       "    </tr>\n",
       "    <tr>\n",
       "      <th>...</th>\n",
       "      <td>...</td>\n",
       "    </tr>\n",
       "    <tr>\n",
       "      <th>2995</th>\n",
       "      <td>是否能找一首2019年的抖音歌曲播放下呢</td>\n",
       "    </tr>\n",
       "    <tr>\n",
       "      <th>2996</th>\n",
       "      <td>下午三点有哪个台放大话西游吗帮我看下</td>\n",
       "    </tr>\n",
       "    <tr>\n",
       "      <th>2997</th>\n",
       "      <td>随机播放一首古筝弹奏的曲子可以吗</td>\n",
       "    </tr>\n",
       "    <tr>\n",
       "      <th>2998</th>\n",
       "      <td>美食纪录片螃蟹的征途给我找一下</td>\n",
       "    </tr>\n",
       "    <tr>\n",
       "      <th>2999</th>\n",
       "      <td>打开播放广州降水的报告</td>\n",
       "    </tr>\n",
       "  </tbody>\n",
       "</table>\n",
       "<p>3000 rows × 1 columns</p>\n",
       "</div>"
      ],
      "text/plain": [
       "                             0\n",
       "0                 回放CCTV2的消费主张\n",
       "1                    给我打开玩具房的灯\n",
       "2               循环播放赵本山的小品相亲来听\n",
       "3     15号上午10点带孩子去海洋馆的行程帮我制定下。\n",
       "4                   把智能扫地机器人关掉\n",
       "...                        ...\n",
       "2995      是否能找一首2019年的抖音歌曲播放下呢\n",
       "2996        下午三点有哪个台放大话西游吗帮我看下\n",
       "2997          随机播放一首古筝弹奏的曲子可以吗\n",
       "2998           美食纪录片螃蟹的征途给我找一下\n",
       "2999               打开播放广州降水的报告\n",
       "\n",
       "[3000 rows x 1 columns]"
      ]
     },
     "execution_count": 5,
     "metadata": {},
     "output_type": "execute_result"
    }
   ],
   "source": [
    "test_data"
   ]
  },
  {
   "cell_type": "code",
   "execution_count": 7,
   "metadata": {},
   "outputs": [
    {
     "name": "stdout",
     "output_type": "stream",
     "text": [
      "                       precision    recall  f1-score   support\n",
      "\n",
      "         Alarm-Update       0.98      0.93      0.96      1264\n",
      "           Audio-Play       0.74      0.50      0.60       226\n",
      "       Calendar-Query       0.99      0.95      0.97      1214\n",
      "        FilmTele-Play       0.70      0.93      0.80      1355\n",
      "HomeAppliance-Control       0.94      0.97      0.96      1215\n",
      "           Music-Play       0.88      0.87      0.87      1304\n",
      "                Other       0.39      0.07      0.11       214\n",
      "         Radio-Listen       0.94      0.89      0.91      1285\n",
      "       TVProgram-Play       0.72      0.45      0.55       240\n",
      "         Travel-Query       0.92      0.96      0.94      1220\n",
      "           Video-Play       0.90      0.87      0.89      1334\n",
      "        Weather-Query       0.92      0.96      0.94      1229\n",
      "\n",
      "             accuracy                           0.89     12100\n",
      "            macro avg       0.84      0.78      0.79     12100\n",
      "         weighted avg       0.89      0.89      0.89     12100\n",
      "\n"
     ]
    }
   ],
   "source": [
    "from sklearn.linear_model import LogisticRegression  \n",
    "from sklearn.neighbors import KNeighborsClassifier \n",
    "from sklearn.svm import LinearSVC   \n",
    "from sklearn.metrics import classification_report \n",
    "from sklearn.model_selection import cross_val_predict  \n",
    "\n",
    "cv_pred  = cross_val_predict(LogisticRegression(), train_tfidf, train_data[1])  \n",
    "print(classification_report(train_data[1], cv_pred)  )"
   ]
  },
  {
   "cell_type": "code",
   "execution_count": 8,
   "metadata": {},
   "outputs": [
    {
     "name": "stderr",
     "output_type": "stream",
     "text": [
      "/Users/samprasyuan/miniforge3/lib/python3.10/site-packages/sklearn/svm/_classes.py:31: FutureWarning: The default value of `dual` will change from `True` to `'auto'` in 1.5. Set the value of `dual` explicitly to suppress the warning.\n",
      "  warnings.warn(\n",
      "/Users/samprasyuan/miniforge3/lib/python3.10/site-packages/sklearn/svm/_classes.py:31: FutureWarning: The default value of `dual` will change from `True` to `'auto'` in 1.5. Set the value of `dual` explicitly to suppress the warning.\n",
      "  warnings.warn(\n",
      "/Users/samprasyuan/miniforge3/lib/python3.10/site-packages/sklearn/svm/_classes.py:31: FutureWarning: The default value of `dual` will change from `True` to `'auto'` in 1.5. Set the value of `dual` explicitly to suppress the warning.\n",
      "  warnings.warn(\n",
      "/Users/samprasyuan/miniforge3/lib/python3.10/site-packages/sklearn/svm/_classes.py:31: FutureWarning: The default value of `dual` will change from `True` to `'auto'` in 1.5. Set the value of `dual` explicitly to suppress the warning.\n",
      "  warnings.warn(\n",
      "/Users/samprasyuan/miniforge3/lib/python3.10/site-packages/sklearn/svm/_classes.py:31: FutureWarning: The default value of `dual` will change from `True` to `'auto'` in 1.5. Set the value of `dual` explicitly to suppress the warning.\n",
      "  warnings.warn(\n"
     ]
    },
    {
     "name": "stdout",
     "output_type": "stream",
     "text": [
      "                       precision    recall  f1-score   support\n",
      "\n",
      "         Alarm-Update       0.97      0.95      0.96      1264\n",
      "           Audio-Play       0.64      0.71      0.67       226\n",
      "       Calendar-Query       0.98      0.97      0.98      1214\n",
      "        FilmTele-Play       0.81      0.89      0.85      1355\n",
      "HomeAppliance-Control       0.97      0.98      0.98      1215\n",
      "           Music-Play       0.90      0.89      0.89      1304\n",
      "                Other       0.31      0.25      0.27       214\n",
      "         Radio-Listen       0.94      0.90      0.92      1285\n",
      "       TVProgram-Play       0.66      0.62      0.64       240\n",
      "         Travel-Query       0.95      0.98      0.97      1220\n",
      "           Video-Play       0.92      0.88      0.90      1334\n",
      "        Weather-Query       0.96      0.97      0.97      1229\n",
      "\n",
      "             accuracy                           0.91     12100\n",
      "            macro avg       0.83      0.83      0.83     12100\n",
      "         weighted avg       0.91      0.91      0.91     12100\n",
      "\n"
     ]
    }
   ],
   "source": [
    "cv_pred = cross_val_predict(\n",
    "    LinearSVC(),\n",
    "    train_tfidf, train_data[1]\n",
    ")\n",
    "print(classification_report(train_data[1], cv_pred))"
   ]
  },
  {
   "cell_type": "markdown",
   "metadata": {},
   "source": []
  }
 ],
 "metadata": {
  "kernelspec": {
   "display_name": "simple-rag",
   "language": "python",
   "name": "python3"
  },
  "language_info": {
   "codemirror_mode": {
    "name": "ipython",
    "version": 3
   },
   "file_extension": ".py",
   "mimetype": "text/x-python",
   "name": "python",
   "nbconvert_exporter": "python",
   "pygments_lexer": "ipython3",
   "version": "3.10.14"
  }
 },
 "nbformat": 4,
 "nbformat_minor": 2
}
