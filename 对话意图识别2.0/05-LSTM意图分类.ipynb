{
 "cells": [
  {
   "cell_type": "markdown",
   "metadata": {},
   "source": [
    "LSTM（Long Short-Term Memory）是一种特殊的循环神经网络，在文本分类任务中表现良好。LSTM可以通过对输入文本进行序列建模来捕捉文本中的长期依赖关系，并对文本进行分类。\n",
    "\n",
    "- 步骤1：搭建LSTM模型，具体结构为Embedding层、LSTM层和全连接层；\n",
    "    - Embedding层：将输入的文本转换为词向量表示，降低维度并保留语义信息；\n",
    "    - LSTM层：使用长短期记忆单元处理词向量序列，学习文本中的上下文信息，并输出隐藏状态；\n",
    "    - 全连接层：将LSTM层的最后一个隐藏状态作为特征输入，使用softmax函数输出每个类别的概率。\n",
    "- 步骤2：使用任务3中的词向量初始化Embedding层\n",
    "- 步骤3：LSTM模型的训练，验证和预测\n",
    "- 步骤4：通过上述步骤，请回答下面问题\n",
    "    - Embedding层的精度与初始化方式相关吗？\n",
    "    - LSTM模型精度与文本最大长度是否相关？\n"
   ]
  },
  {
   "cell_type": "code",
   "execution_count": null,
   "metadata": {},
   "outputs": [],
   "source": []
  }
 ],
 "metadata": {
  "language_info": {
   "name": "python"
  }
 },
 "nbformat": 4,
 "nbformat_minor": 2
}
